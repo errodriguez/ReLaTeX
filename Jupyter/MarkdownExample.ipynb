{
 "cells": [
  {
   "cell_type": "markdown",
   "id": "cfd00b87-3b5e-4b44-88b0-32c972c12264",
   "metadata": {},
   "source": [
    "<H1><strong>Ejemplos de <span class=\"texhtml\" style=\"font-family: 'CMU Serif', cmr10, LMRoman10-Regular, 'Latin Modern Math', 'Nimbus Roman No9 L', 'Times New Roman', Times, serif\">T<span style=\"text-transform: uppercase;vertical-align: -.5ex;margin-left: -.1667em;margin-right: -.125em;line-height: 1ex\">e</span>X</span></strong> y <strong><span class=\"texhtml\" style=\"font-family: 'CMU Serif', cmr10, LMRoman10-Regular, 'Latin Modern Math', 'Nimbus Roman No9 L', 'Times New Roman', Times, serif\">L<span style=\"text-transform: uppercase;font-size: .75em;vertical-align: .25em;margin-left: -.36em;margin-right: -.15em;line-height: 1ex\">a</span>T<span style=\"text-transform: uppercase;vertical-align: -.5ex;margin-left: -.1667em;margin-right: -.125em;line-height: 1ex\">e</span>X</span> en Jupyter notebooks</strong></H1>\n",
    "\n",
    "<p>Uso de <strong><span class=\"texhtml\" style=\"font-family: 'CMU Serif', cmr10, LMRoman10-Regular, 'Latin Modern Math', 'Nimbus Roman No9 L', 'Times New Roman', Times, serif\">T<span style=\"text-transform: uppercase;vertical-align: -.5ex;margin-left: -.1667em;margin-right: -.125em;line-height: 1ex\">e</span>X</span></strong> y <strong><span class=\"texhtml\" style=\"font-family: 'CMU Serif', cmr10, LMRoman10-Regular, 'Latin Modern Math', 'Nimbus Roman No9 L', 'Times New Roman', Times, serif\">L<span style=\"text-transform: uppercase;font-size: .75em;vertical-align: .25em;margin-left: -.36em;margin-right: -.15em;line-height: 1ex\">a</span>T<span style=\"text-transform: uppercase;vertical-align: -.5ex;margin-left: -.1667em;margin-right: -.125em;line-height: 1ex\">e</span>X</span></strong> en celdas markdown</p>"
   ]
  },
  {
   "cell_type": "markdown",
   "id": "71271fa2-d6a4-4ab4-a65a-d12574c8aa68",
   "metadata": {},
   "source": [
    "Sea\n",
    "$$z_i = b + ω_1*x_1+ \\ldots + \\omega_k * x_k $$\n",
    "para mis datos i-esimos $\\{ x_1,\\ldots,x_k\\} \\in X$. Tenemos que\n",
    "$$ \\frac{\\partial L}{\\partial ω} = \\frac{\\partial L}{\\partial z} \\frac{∂ z}{\\partial \\omega} $$\n",
    "así\n",
    "$$ \\require{cancel}\n",
    "\\begin{align}\n",
    "\\frac{dL}{dz_i} &= \\frac{d}{dz_i} \\bigg[  – \\sum_{k=1}^c y_k log (a_k) \\bigg] \\\\\n",
    "&= – \\sum_{k=1}^c y_k \\frac{d \\big( log (a_k) \\big)}{dz_i} \\\\\n",
    "&= – \\sum_{k=1}^c y_k \\frac{d \\big( log (a_k) \\big)}{da_k} . \\frac{da_k}{dz_i} \\\\\n",
    "&= – \\sum_{k=1}^c\\frac{y_k}{a_k} . \\frac{da_k}{dz_i} \\\\\n",
    "&= – \\bigg[ \\frac{y_i}{a_i} . \\frac{da_i}{dz_i}  + \\sum_{k=1, k \\not=i}^c \\frac{y_k}{a_k}  \\frac{da_k}{dz_i} \\bigg] \\\\\n",
    "&= – \\frac{y_i}{\\cancel{a_i}} . \\cancel{a_i}(1-a_i) \\text{ } – \\sum_{k=1, k \\not=i}^c \\frac{y_k}{\\cancel{a_k}} . (\\cancel{a_k}a_i) \\\\\n",
    "&= – y_i +y_ia_i + \\sum_{k=1, k \\not=i}^c y_ka_i \\\\\n",
    "&= a_i \\big( y_i + \\sum_{k=1, k \\not=i}^c y_k \\big) – y_i \\\\\n",
    "&= a_i + \\sum_{k=1}^c y_k -y_i \\\\\n",
    "&= a_i . 1 – y_i \\text{ , since } \\sum_{k=1}^c y_k =1 \\\\\n",
    "&= a_i – y_i\n",
    "\\end{align} $$\n",
    "además\n",
    "$$ \\frac{\\partial z_i}{\\partial \\omega_i} = x_i $$"
   ]
  },
  {
   "cell_type": "markdown",
   "id": "e03677e1-9a0d-426e-8438-9e45a92edffe",
   "metadata": {},
   "source": [
    "Considere $n$ puntos, $V = \\left\\{0, 1, \\dots, n-1 \\right\\}$, y la matriz de distancia $D_{n\\times n}$ con entradas $d_{i, j} \\in \\mathbb{R^+}$.\n",
    "\n",
    "La variable $x_{i,j}$ es tal que\n",
    "$$  x_{i,j} = \\begin{cases} 1 & \\text{ el camino va de la ciudad } i \\text{ a la ciudad } j\\text{,} \\\\ 0 & \\text{caso contrario.} \\end{cases} $$\n",
    "\n",
    "Tomando una variable dummy $y_i$ que guarda información del orden en que se visitan las ciudades, a partir de la ciudad $0$. Esto se escribe como $ y_i < y_j$ si la ciudad $i$ se visita antes que la ciudad $j$.\n",
    "\n",
    "Programación lineal favorece la desigualdades no-estrictas respecto a la estrictas, por lo que se puede imponer una condición parecida a la siguiente\n",
    "\n",
    "$$ y_j \\geqslant y_i + x_{i,j} $$\n",
    "\n",
    "cuando $x_{i,j} = 1$ (NOTESE que no es lo mismo que tomar solo $ y_j \\geqslant y_i + x_{i,j}$ en el caso general de $x_{i,j}$)\n"
   ]
  }
 ],
 "metadata": {
  "kernelspec": {
   "display_name": "Python 3 (ipykernel)",
   "language": "python",
   "name": "python3"
  },
  "language_info": {
   "codemirror_mode": {
    "name": "ipython",
    "version": 3
   },
   "file_extension": ".py",
   "mimetype": "text/x-python",
   "name": "python",
   "nbconvert_exporter": "python",
   "pygments_lexer": "ipython3",
   "version": "3.10.12"
  }
 },
 "nbformat": 4,
 "nbformat_minor": 5
}
